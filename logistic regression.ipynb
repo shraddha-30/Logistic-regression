{
  "nbformat": 4,
  "nbformat_minor": 0,
  "metadata": {
    "colab": {
      "provenance": []
    },
    "kernelspec": {
      "name": "python3",
      "display_name": "Python 3"
    },
    "language_info": {
      "name": "python"
    }
  },
  "cells": [
    {
      "cell_type": "code",
      "execution_count": 12,
      "metadata": {
        "id": "nsOJ3tjMgnZZ"
      },
      "outputs": [],
      "source": [
        "import pandas as pd\n",
        "import numpy as np\n",
        "from sklearn import preprocessing\n",
        "import matplotlib.pyplot as plt "
      ]
    },
    {
      "cell_type": "code",
      "source": [
        "plt.rc(\"font\", size=14)\n",
        "from sklearn.linear_model import LogisticRegression\n",
        "from sklearn.model_selection import train_test_split\n",
        "import seaborn as sns\n",
        "sns.set(style=\"white\")\n",
        "sns.set(style=\"whitegrid\", color_codes=True)"
      ],
      "metadata": {
        "id": "MqUULIkAgox1"
      },
      "execution_count": 13,
      "outputs": []
    },
    {
      "cell_type": "code",
      "source": [
        "data = pd.read_csv('/content/Data_set.csv')"
      ],
      "metadata": {
        "id": "lOa3vfS-gouO"
      },
      "execution_count": 14,
      "outputs": []
    },
    {
      "cell_type": "code",
      "source": [
        "print(data.info())"
      ],
      "metadata": {
        "colab": {
          "base_uri": "https://localhost:8080/"
        },
        "id": "LnkFtLJKgork",
        "outputId": "1871947b-b446-4100-b703-6ca7d4b0e370"
      },
      "execution_count": 15,
      "outputs": [
        {
          "output_type": "stream",
          "name": "stdout",
          "text": [
            "<class 'pandas.core.frame.DataFrame'>\n",
            "RangeIndex: 30000 entries, 0 to 29999\n",
            "Data columns (total 19 columns):\n",
            " #   Column                      Non-Null Count  Dtype  \n",
            "---  ------                      --------------  -----  \n",
            " 0   Acc_ID                      30000 non-null  int64  \n",
            " 1   Limit                       30000 non-null  int64  \n",
            " 2   SEX                         30000 non-null  int64  \n",
            " 3   EDUCATION                   30000 non-null  int64  \n",
            " 4   MARRIAGE                    30000 non-null  int64  \n",
            " 5   Debt                        29999 non-null  float64\n",
            " 6   BILL_AMT1                   30000 non-null  int64  \n",
            " 7   BILL_AMT2                   30000 non-null  int64  \n",
            " 8   BILL_AMT3                   30000 non-null  int64  \n",
            " 9   BILL_AMT4                   30000 non-null  int64  \n",
            " 10  BILL_AMT5                   30000 non-null  int64  \n",
            " 11  BILL_AMT6                   30000 non-null  int64  \n",
            " 12  PAY_AMT1                    30000 non-null  int64  \n",
            " 13  PAY_AMT2                    30000 non-null  int64  \n",
            " 14  PAY_AMT3                    30000 non-null  int64  \n",
            " 15  PAY_AMT4                    30000 non-null  int64  \n",
            " 16  PAY_AMT5                    30000 non-null  int64  \n",
            " 17  PAY_AMT6                    30000 non-null  int64  \n",
            " 18  default payment next month  30000 non-null  int64  \n",
            "dtypes: float64(1), int64(18)\n",
            "memory usage: 4.3 MB\n",
            "None\n"
          ]
        }
      ]
    },
    {
      "cell_type": "code",
      "source": [
        "data['default payment next month'].value_counts()\n"
      ],
      "metadata": {
        "id": "_-Mk5S_mgopK",
        "colab": {
          "base_uri": "https://localhost:8080/"
        },
        "outputId": "7891125a-ce37-46d4-a459-908665e5ecbc"
      },
      "execution_count": 16,
      "outputs": [
        {
          "output_type": "execute_result",
          "data": {
            "text/plain": [
              "0    23364\n",
              "1     6636\n",
              "Name: default payment next month, dtype: int64"
            ]
          },
          "metadata": {},
          "execution_count": 16
        }
      ]
    },
    {
      "cell_type": "code",
      "source": [
        "default_rate = data['default payment next month'].sum() / data.shape[0]\n",
        "default_rate *= 100\n",
        "default_rate\n"
      ],
      "metadata": {
        "colab": {
          "base_uri": "https://localhost:8080/"
        },
        "id": "HTLHs5cJImsQ",
        "outputId": "e7f837da-aadd-4b5d-afa1-3eb93082cec8"
      },
      "execution_count": 17,
      "outputs": [
        {
          "output_type": "execute_result",
          "data": {
            "text/plain": [
              "22.12"
            ]
          },
          "metadata": {},
          "execution_count": 17
        }
      ]
    },
    {
      "cell_type": "code",
      "source": [
        "data_model = data[(data['BILL_AMT6']>0) & (data['Limit']>0) & (data['Debt']>31)]\n"
      ],
      "metadata": {
        "id": "s7QQDAvbImoy"
      },
      "execution_count": 18,
      "outputs": []
    },
    {
      "cell_type": "code",
      "source": [
        "print(\"Number of Rows and Columns in Model Development Data: \")\n",
        "\n"
      ],
      "metadata": {
        "colab": {
          "base_uri": "https://localhost:8080/"
        },
        "id": "PTVr5eAmImmc",
        "outputId": "c07fbe7c-1632-4dc7-a2f9-2b73551056e3"
      },
      "execution_count": 19,
      "outputs": [
        {
          "output_type": "stream",
          "name": "stdout",
          "text": [
            "Number of Rows and Columns in Model Development Data: \n"
          ]
        }
      ]
    },
    {
      "cell_type": "code",
      "source": [
        "default_rate_model = data_model['default payment next month'].sum() / data_model.shape[0]\n",
        "default_rate_model *= 100\n",
        "default_rate_model\n"
      ],
      "metadata": {
        "colab": {
          "base_uri": "https://localhost:8080/"
        },
        "id": "40uZa8ugImkX",
        "outputId": "10f1cc54-cc4d-4095-b307-77dab61e9bfd"
      },
      "execution_count": 20,
      "outputs": [
        {
          "output_type": "execute_result",
          "data": {
            "text/plain": [
              "21.504198612632347"
            ]
          },
          "metadata": {},
          "execution_count": 20
        }
      ]
    },
    {
      "cell_type": "code",
      "source": [
        "data_model['payment_ratio'] = data_model['PAY_AMT6'] / data_model['BILL_AMT6']\n"
      ],
      "metadata": {
        "colab": {
          "base_uri": "https://localhost:8080/"
        },
        "id": "L7cq_c98ImiD",
        "outputId": "02cccfd6-c3a5-4840-8601-2cfcf0b27e4b"
      },
      "execution_count": 21,
      "outputs": [
        {
          "output_type": "stream",
          "name": "stderr",
          "text": [
            "<ipython-input-21-2ec836f7275a>:1: SettingWithCopyWarning: \n",
            "A value is trying to be set on a copy of a slice from a DataFrame.\n",
            "Try using .loc[row_indexer,col_indexer] = value instead\n",
            "\n",
            "See the caveats in the documentation: https://pandas.pydata.org/pandas-docs/stable/user_guide/indexing.html#returning-a-view-versus-a-copy\n",
            "  data_model['payment_ratio'] = data_model['PAY_AMT6'] / data_model['BILL_AMT6']\n"
          ]
        }
      ]
    },
    {
      "cell_type": "code",
      "source": [
        "payment_ratio_min = data_model['payment_ratio'].min()\n",
        "payment_ratio_max = data_model['payment_ratio'].max()\n",
        "payment_ratio_mean = data_model['payment_ratio'].mean()\n",
        "\n",
        "print(\"Minimum Payment Ratio: \", payment_ratio_min)\n",
        "print(\"Maximum Payment Ratio: \", payment_ratio_max)\n",
        "print(\"Mean Payment Ratio: \", payment_ratio_mean)\n"
      ],
      "metadata": {
        "colab": {
          "base_uri": "https://localhost:8080/"
        },
        "id": "X_74gwOyImfU",
        "outputId": "edb19595-1c1b-4088-f802-29be2ef3fd9c"
      },
      "execution_count": 22,
      "outputs": [
        {
          "output_type": "stream",
          "name": "stdout",
          "text": [
            "Minimum Payment Ratio:  0.0\n",
            "Maximum Payment Ratio:  2643.33\n",
            "Mean Payment Ratio:  1.7047184027756808\n"
          ]
        }
      ]
    },
    {
      "cell_type": "code",
      "source": [
        "print(data.info())"
      ],
      "metadata": {
        "colab": {
          "base_uri": "https://localhost:8080/"
        },
        "id": "JWDBz1mELfnN",
        "outputId": "092e3480-c4bf-4e00-be37-7348be8ec81e"
      },
      "execution_count": 23,
      "outputs": [
        {
          "output_type": "stream",
          "name": "stdout",
          "text": [
            "<class 'pandas.core.frame.DataFrame'>\n",
            "RangeIndex: 30000 entries, 0 to 29999\n",
            "Data columns (total 19 columns):\n",
            " #   Column                      Non-Null Count  Dtype  \n",
            "---  ------                      --------------  -----  \n",
            " 0   Acc_ID                      30000 non-null  int64  \n",
            " 1   Limit                       30000 non-null  int64  \n",
            " 2   SEX                         30000 non-null  int64  \n",
            " 3   EDUCATION                   30000 non-null  int64  \n",
            " 4   MARRIAGE                    30000 non-null  int64  \n",
            " 5   Debt                        29999 non-null  float64\n",
            " 6   BILL_AMT1                   30000 non-null  int64  \n",
            " 7   BILL_AMT2                   30000 non-null  int64  \n",
            " 8   BILL_AMT3                   30000 non-null  int64  \n",
            " 9   BILL_AMT4                   30000 non-null  int64  \n",
            " 10  BILL_AMT5                   30000 non-null  int64  \n",
            " 11  BILL_AMT6                   30000 non-null  int64  \n",
            " 12  PAY_AMT1                    30000 non-null  int64  \n",
            " 13  PAY_AMT2                    30000 non-null  int64  \n",
            " 14  PAY_AMT3                    30000 non-null  int64  \n",
            " 15  PAY_AMT4                    30000 non-null  int64  \n",
            " 16  PAY_AMT5                    30000 non-null  int64  \n",
            " 17  PAY_AMT6                    30000 non-null  int64  \n",
            " 18  default payment next month  30000 non-null  int64  \n",
            "dtypes: float64(1), int64(18)\n",
            "memory usage: 4.3 MB\n",
            "None\n"
          ]
        }
      ]
    },
    {
      "cell_type": "code",
      "source": [
        "# create rescaled variable\n",
        "data['LIMIT_BAL1'] = data['Limit'] / 1000\n",
        "\n",
        "# compute minimum, maximum, and mean of 'Limit' and 'LIMIT_BAL1'\n",
        "min_limit = data['Limit'].min()\n",
        "max_limit = data['Limit'].max()\n",
        "mean_limit = data['Limit'].mean()\n",
        "\n",
        "min_limit_bal1 = data['LIMIT_BAL1'].min()\n",
        "max_limit_bal1 = data['LIMIT_BAL1'].max()\n",
        "mean_limit_bal1 = data['LIMIT_BAL1'].mean()\n",
        "\n",
        "# print the results\n",
        "print(f\"Minimum value of 'Limit': {min_limit}\")\n",
        "print(f\"Maximum value of 'Limit': {max_limit}\")\n",
        "print(f\"Mean value of 'Limit': {mean_limit}\")\n",
        "print(f\"Minimum value of 'LIMIT_BAL1': {min_limit_bal1}\")\n",
        "print(f\"Maximum value of 'LIMIT_BAL1': {max_limit_bal1}\")\n",
        "print(f\"Mean value of 'LIMIT_BAL1': {mean_limit_bal1}\")"
      ],
      "metadata": {
        "colab": {
          "base_uri": "https://localhost:8080/"
        },
        "id": "t9tvGMY3ImZ3",
        "outputId": "f0fb86c2-8007-43d2-eba0-a60147c75cb9"
      },
      "execution_count": 24,
      "outputs": [
        {
          "output_type": "stream",
          "name": "stdout",
          "text": [
            "Minimum value of 'Limit': 10100\n",
            "Maximum value of 'Limit': 1000500\n",
            "Mean value of 'Limit': 167785.74266666666\n",
            "Minimum value of 'LIMIT_BAL1': 10.1\n",
            "Maximum value of 'LIMIT_BAL1': 1000.5\n",
            "Mean value of 'LIMIT_BAL1': 167.78574266666666\n"
          ]
        }
      ]
    },
    {
      "cell_type": "code",
      "source": [
        "# create 'Payratio' variable (payment ratio)\n",
        "data['Payratio'] = data.apply(lambda x: (x['PAY_AMT1'] + x['PAY_AMT2'] + x['PAY_AMT3'] + x['PAY_AMT4'] + x['PAY_AMT5'] + x['PAY_AMT6']) / x['LIMIT_BAL1'], axis=1)\n",
        "\n",
        "# divide the variable into five equal bins\n",
        "data['Payratio_bins'] = pd.qcut(data['Payratio'], q=5)\n",
        "\n",
        "# compute default rate in each bin\n",
        "default_rate = data.groupby(['Payratio_bins'])['default payment next month'].mean()\n",
        "\n",
        "# print the results\n",
        "print(default_rate)"
      ],
      "metadata": {
        "colab": {
          "base_uri": "https://localhost:8080/"
        },
        "id": "B0rhwQDPM1sZ",
        "outputId": "a7c9cc95-8918-478f-dea4-4fdd84e64e54"
      },
      "execution_count": 25,
      "outputs": [
        {
          "output_type": "stream",
          "name": "stdout",
          "text": [
            "Payratio_bins\n",
            "(0.001, 49.519]         0.246333\n",
            "(49.519, 121.911]       0.195667\n",
            "(121.911, 190.182]      0.232667\n",
            "(190.182, 307.396]      0.248333\n",
            "(307.396, 14530.112]    0.183000\n",
            "Name: default payment next month, dtype: float64\n"
          ]
        }
      ]
    },
    {
      "cell_type": "code",
      "source": [
        "# create rescaled variable\n",
        "data['LIMIT_BAL1'] = data['Limit'] / 1000\n",
        "\n",
        "# divide the variable into five equal bins\n",
        "data['Limit_bins'] = pd.qcut(data['LIMIT_BAL1'], q=5)\n",
        "\n",
        "# compute default rate in each bin\n",
        "default_rate = data.groupby(['Limit_bins'])['default payment next month'].mean()\n",
        "\n",
        "# print the results\n",
        "print(default_rate)"
      ],
      "metadata": {
        "colab": {
          "base_uri": "https://localhost:8080/"
        },
        "id": "v8n0tAYkNM3f",
        "outputId": "3e20cc2f-4ffb-4771-b785-fe48284c75c0"
      },
      "execution_count": 26,
      "outputs": [
        {
          "output_type": "stream",
          "name": "stdout",
          "text": [
            "Limit_bins\n",
            "(10.099, 50.3]     0.327515\n",
            "(50.3, 100.3]      0.261679\n",
            "(100.3, 180.2]     0.205867\n",
            "(180.2, 270.5]     0.168276\n",
            "(270.5, 1000.5]    0.137966\n",
            "Name: default payment next month, dtype: float64\n"
          ]
        }
      ]
    },
    {
      "cell_type": "code",
      "source": [
        "print(data.info())"
      ],
      "metadata": {
        "colab": {
          "base_uri": "https://localhost:8080/"
        },
        "id": "9m1UyF6RNbzi",
        "outputId": "cfc81bc1-96c8-4ca9-de1e-96ea64e94468"
      },
      "execution_count": 27,
      "outputs": [
        {
          "output_type": "stream",
          "name": "stdout",
          "text": [
            "<class 'pandas.core.frame.DataFrame'>\n",
            "RangeIndex: 30000 entries, 0 to 29999\n",
            "Data columns (total 23 columns):\n",
            " #   Column                      Non-Null Count  Dtype   \n",
            "---  ------                      --------------  -----   \n",
            " 0   Acc_ID                      30000 non-null  int64   \n",
            " 1   Limit                       30000 non-null  int64   \n",
            " 2   SEX                         30000 non-null  int64   \n",
            " 3   EDUCATION                   30000 non-null  int64   \n",
            " 4   MARRIAGE                    30000 non-null  int64   \n",
            " 5   Debt                        29999 non-null  float64 \n",
            " 6   BILL_AMT1                   30000 non-null  int64   \n",
            " 7   BILL_AMT2                   30000 non-null  int64   \n",
            " 8   BILL_AMT3                   30000 non-null  int64   \n",
            " 9   BILL_AMT4                   30000 non-null  int64   \n",
            " 10  BILL_AMT5                   30000 non-null  int64   \n",
            " 11  BILL_AMT6                   30000 non-null  int64   \n",
            " 12  PAY_AMT1                    30000 non-null  int64   \n",
            " 13  PAY_AMT2                    30000 non-null  int64   \n",
            " 14  PAY_AMT3                    30000 non-null  int64   \n",
            " 15  PAY_AMT4                    30000 non-null  int64   \n",
            " 16  PAY_AMT5                    30000 non-null  int64   \n",
            " 17  PAY_AMT6                    30000 non-null  int64   \n",
            " 18  default payment next month  30000 non-null  int64   \n",
            " 19  LIMIT_BAL1                  30000 non-null  float64 \n",
            " 20  Payratio                    30000 non-null  float64 \n",
            " 21  Payratio_bins               30000 non-null  category\n",
            " 22  Limit_bins                  30000 non-null  category\n",
            "dtypes: category(2), float64(3), int64(18)\n",
            "memory usage: 4.9 MB\n",
            "None\n"
          ]
        }
      ]
    },
    {
      "cell_type": "code",
      "source": [
        "# Create a new column 'Debt_bins' by dividing 'Debt' variable into five equal bins\n",
        "data['Debt_bins'] = pd.cut(data['Debt'], 5)\n",
        "\n",
        "# Compute default rate in each bin\n",
        "default_rate = data.groupby('Debt_bins')['default payment next month'].mean()\n",
        "\n",
        "print(default_rate)"
      ],
      "metadata": {
        "colab": {
          "base_uri": "https://localhost:8080/"
        },
        "id": "gjZww1ONODhg",
        "outputId": "33de0fbe-75f8-46dd-c588-ebdef31176d1"
      },
      "execution_count": 28,
      "outputs": [
        {
          "output_type": "stream",
          "name": "stdout",
          "text": [
            "Debt_bins\n",
            "(21.941, 33.8]    0.219991\n",
            "(33.8, 45.6]      0.211702\n",
            "(45.6, 57.4]      0.239583\n",
            "(57.4, 69.2]      0.269285\n",
            "(69.2, 81.0]      0.238095\n",
            "Name: default payment next month, dtype: float64\n"
          ]
        }
      ]
    },
    {
      "cell_type": "code",
      "source": [
        "print(data.info())"
      ],
      "metadata": {
        "colab": {
          "base_uri": "https://localhost:8080/"
        },
        "id": "cGlNBGxqOWNc",
        "outputId": "ce85fede-fb0f-4f12-c4b7-8515313b46e5"
      },
      "execution_count": 29,
      "outputs": [
        {
          "output_type": "stream",
          "name": "stdout",
          "text": [
            "<class 'pandas.core.frame.DataFrame'>\n",
            "RangeIndex: 30000 entries, 0 to 29999\n",
            "Data columns (total 24 columns):\n",
            " #   Column                      Non-Null Count  Dtype   \n",
            "---  ------                      --------------  -----   \n",
            " 0   Acc_ID                      30000 non-null  int64   \n",
            " 1   Limit                       30000 non-null  int64   \n",
            " 2   SEX                         30000 non-null  int64   \n",
            " 3   EDUCATION                   30000 non-null  int64   \n",
            " 4   MARRIAGE                    30000 non-null  int64   \n",
            " 5   Debt                        29999 non-null  float64 \n",
            " 6   BILL_AMT1                   30000 non-null  int64   \n",
            " 7   BILL_AMT2                   30000 non-null  int64   \n",
            " 8   BILL_AMT3                   30000 non-null  int64   \n",
            " 9   BILL_AMT4                   30000 non-null  int64   \n",
            " 10  BILL_AMT5                   30000 non-null  int64   \n",
            " 11  BILL_AMT6                   30000 non-null  int64   \n",
            " 12  PAY_AMT1                    30000 non-null  int64   \n",
            " 13  PAY_AMT2                    30000 non-null  int64   \n",
            " 14  PAY_AMT3                    30000 non-null  int64   \n",
            " 15  PAY_AMT4                    30000 non-null  int64   \n",
            " 16  PAY_AMT5                    30000 non-null  int64   \n",
            " 17  PAY_AMT6                    30000 non-null  int64   \n",
            " 18  default payment next month  30000 non-null  int64   \n",
            " 19  LIMIT_BAL1                  30000 non-null  float64 \n",
            " 20  Payratio                    30000 non-null  float64 \n",
            " 21  Payratio_bins               30000 non-null  category\n",
            " 22  Limit_bins                  30000 non-null  category\n",
            " 23  Debt_bins                   29999 non-null  category\n",
            "dtypes: category(3), float64(3), int64(18)\n",
            "memory usage: 4.9 MB\n",
            "None\n"
          ]
        }
      ]
    },
    {
      "cell_type": "code",
      "source": [
        "print(\"1st and 99th percentile value of Payment ratio: \")\n",
        "print(data.Payratio.describe(percentiles=[0.01,0.99]))\n",
        "print(\"1st and 99th percentile value of Credit limit: \")\n",
        "print(data.LIMIT_BAL1.describe(percentiles=[0.01,0.99]))\n",
        "print(\"1st and 99th percentile value of Debt: \")\n",
        "print(data.Debt.describe(percentiles=[0.01,0.99]))"
      ],
      "metadata": {
        "colab": {
          "base_uri": "https://localhost:8080/"
        },
        "id": "yD9ksuULO5c7",
        "outputId": "50325cfc-1706-4b08-fda4-28f20f8493fb"
      },
      "execution_count": 30,
      "outputs": [
        {
          "output_type": "stream",
          "name": "stdout",
          "text": [
            "1st and 99th percentile value of Payment ratio: \n",
            "count    30000.000000\n",
            "mean       232.126387\n",
            "std        313.170522\n",
            "min          0.001998\n",
            "1%           0.019933\n",
            "50%        156.110630\n",
            "99%       1406.386502\n",
            "max      14530.112219\n",
            "Name: Payratio, dtype: float64\n",
            "1st and 99th percentile value of Credit limit: \n",
            "count    30000.000000\n",
            "mean       167.785743\n",
            "std        129.746714\n",
            "min         10.100000\n",
            "1%          10.400000\n",
            "50%        140.400000\n",
            "99%        500.500000\n",
            "max       1000.500000\n",
            "Name: LIMIT_BAL1, dtype: float64\n",
            "1st and 99th percentile value of Debt: \n",
            "count    29999.000000\n",
            "mean        36.985533\n",
            "std          9.235147\n",
            "min         22.000000\n",
            "1%          23.000000\n",
            "50%         35.000000\n",
            "99%         62.000000\n",
            "max         81.000000\n",
            "Name: Debt, dtype: float64\n"
          ]
        }
      ]
    },
    {
      "cell_type": "code",
      "source": [
        "# Calculate 99th percentile values\n",
        "limit_99 = np.percentile(data['Limit'], 99)\n",
        "payratio_99 = np.percentile(data['Payratio'], 99)\n",
        "debt_99 = np.percentile(data['Debt'], 99)\n",
        "\n",
        "# Create capped variables\n",
        "data['Limit_cap'] = np.where(data['Limit'] > limit_99, limit_99, data['Limit'])\n",
        "data['Payratio_cap'] = np.where(data['Payratio'] > payratio_99, payratio_99, data['Payratio'])\n",
        "data['Debt_cap'] = np.where(data['Debt'] > debt_99, debt_99, data['Debt'])\n",
        "\n",
        "# Rescale credit limit\n",
        "data['Limit_rescaled'] = data['Limit_cap'] / 1000\n",
        "\n",
        "# Calculate mean before and after capping\n",
        "pre_mean = data[['Payratio', 'Limit', 'Debt']].mean()\n",
        "post_mean = data[['Payratio_cap', 'Limit_cap', 'Debt_cap']].mean()\n",
        "\n",
        "print(\"Pre-capped mean:\\n\", pre_mean)\n",
        "print(\"\\nPost-capped mean:\\n\", post_mean)"
      ],
      "metadata": {
        "colab": {
          "base_uri": "https://localhost:8080/"
        },
        "id": "UGvTd_A4PHhH",
        "outputId": "120e687a-1080-4a22-ede2-15a57b1c418e"
      },
      "execution_count": 31,
      "outputs": [
        {
          "output_type": "stream",
          "name": "stdout",
          "text": [
            "Pre-capped mean:\n",
            " Payratio       232.126387\n",
            "Limit       167785.742667\n",
            "Debt            36.985533\n",
            "dtype: float64\n",
            "\n",
            "Post-capped mean:\n",
            " Payratio_cap       225.715882\n",
            "Limit_cap       167111.469333\n",
            "Debt_cap            36.985533\n",
            "dtype: float64\n"
          ]
        }
      ]
    },
    {
      "cell_type": "code",
      "source": [
        "data['intercept'] = 1\n",
        "intercept_mean = data.intercept.mean()\n",
        "print(\"Mean of Intercept variable: \", intercept_mean)"
      ],
      "metadata": {
        "colab": {
          "base_uri": "https://localhost:8080/"
        },
        "id": "5jTGIb8PPUrz",
        "outputId": "1df8d0ce-24e2-4837-da3e-77530ad3ee05"
      },
      "execution_count": 32,
      "outputs": [
        {
          "output_type": "stream",
          "name": "stdout",
          "text": [
            "Mean of Intercept variable:  1.0\n"
          ]
        }
      ]
    },
    {
      "cell_type": "code",
      "source": [
        "from sklearn.model_selection import train_test_split\n",
        "random_seed = 0"
      ],
      "metadata": {
        "id": "sJhHk8TJPde4"
      },
      "execution_count": 33,
      "outputs": []
    },
    {
      "cell_type": "code",
      "source": [
        "print(data.info())"
      ],
      "metadata": {
        "colab": {
          "base_uri": "https://localhost:8080/"
        },
        "id": "cYG6ZGIrPiqy",
        "outputId": "e8d09fc1-860a-4137-91d1-15fc60eddb4a"
      },
      "execution_count": 34,
      "outputs": [
        {
          "output_type": "stream",
          "name": "stdout",
          "text": [
            "<class 'pandas.core.frame.DataFrame'>\n",
            "RangeIndex: 30000 entries, 0 to 29999\n",
            "Data columns (total 29 columns):\n",
            " #   Column                      Non-Null Count  Dtype   \n",
            "---  ------                      --------------  -----   \n",
            " 0   Acc_ID                      30000 non-null  int64   \n",
            " 1   Limit                       30000 non-null  int64   \n",
            " 2   SEX                         30000 non-null  int64   \n",
            " 3   EDUCATION                   30000 non-null  int64   \n",
            " 4   MARRIAGE                    30000 non-null  int64   \n",
            " 5   Debt                        29999 non-null  float64 \n",
            " 6   BILL_AMT1                   30000 non-null  int64   \n",
            " 7   BILL_AMT2                   30000 non-null  int64   \n",
            " 8   BILL_AMT3                   30000 non-null  int64   \n",
            " 9   BILL_AMT4                   30000 non-null  int64   \n",
            " 10  BILL_AMT5                   30000 non-null  int64   \n",
            " 11  BILL_AMT6                   30000 non-null  int64   \n",
            " 12  PAY_AMT1                    30000 non-null  int64   \n",
            " 13  PAY_AMT2                    30000 non-null  int64   \n",
            " 14  PAY_AMT3                    30000 non-null  int64   \n",
            " 15  PAY_AMT4                    30000 non-null  int64   \n",
            " 16  PAY_AMT5                    30000 non-null  int64   \n",
            " 17  PAY_AMT6                    30000 non-null  int64   \n",
            " 18  default payment next month  30000 non-null  int64   \n",
            " 19  LIMIT_BAL1                  30000 non-null  float64 \n",
            " 20  Payratio                    30000 non-null  float64 \n",
            " 21  Payratio_bins               30000 non-null  category\n",
            " 22  Limit_bins                  30000 non-null  category\n",
            " 23  Debt_bins                   29999 non-null  category\n",
            " 24  Limit_cap                   30000 non-null  float64 \n",
            " 25  Payratio_cap                30000 non-null  float64 \n",
            " 26  Debt_cap                    29999 non-null  float64 \n",
            " 27  Limit_rescaled              30000 non-null  float64 \n",
            " 28  intercept                   30000 non-null  int64   \n",
            "dtypes: category(3), float64(7), int64(19)\n",
            "memory usage: 6.0 MB\n",
            "None\n"
          ]
        }
      ]
    },
    {
      "cell_type": "code",
      "source": [
        "# Importing necessary libraries\n",
        "from sklearn.model_selection import train_test_split\n",
        "\n",
        "# Creating X and y variables\n",
        "X = data[['Debt_cap', 'Limit_cap', 'intercept', 'Payratio_cap']]\n",
        "y = data['default payment next month']\n",
        "\n",
        "# Creating new train and test data with random seed as 0\n",
        "X_train, X_test, y_train, y_test = train_test_split(X, y, test_size=0.2, random_state=0)\n",
        "\n",
        "# Printing the number of records in train and test data\n",
        "print(\"Number of records in train data:\", len(X_train))\n",
        "print(\"Number of records in test data:\", len(X_test))\n"
      ],
      "metadata": {
        "colab": {
          "base_uri": "https://localhost:8080/"
        },
        "id": "FYHcCyc-P_0B",
        "outputId": "0231e709-603d-4d79-cc73-fdfe711881ef"
      },
      "execution_count": 35,
      "outputs": [
        {
          "output_type": "stream",
          "name": "stdout",
          "text": [
            "Number of records in train data: 24000\n",
            "Number of records in test data: 6000\n"
          ]
        }
      ]
    },
    {
      "cell_type": "code",
      "source": [
        "\n"
      ],
      "metadata": {
        "id": "C68SSgujP_wu"
      },
      "execution_count": 35,
      "outputs": []
    },
    {
      "cell_type": "code",
      "source": [
        "print(data.info())"
      ],
      "metadata": {
        "colab": {
          "base_uri": "https://localhost:8080/"
        },
        "id": "WZMDeij4P_tc",
        "outputId": "fd3d2fa7-243d-4281-ea9f-92aa3bcdb5d7"
      },
      "execution_count": 36,
      "outputs": [
        {
          "output_type": "stream",
          "name": "stdout",
          "text": [
            "<class 'pandas.core.frame.DataFrame'>\n",
            "RangeIndex: 30000 entries, 0 to 29999\n",
            "Data columns (total 29 columns):\n",
            " #   Column                      Non-Null Count  Dtype   \n",
            "---  ------                      --------------  -----   \n",
            " 0   Acc_ID                      30000 non-null  int64   \n",
            " 1   Limit                       30000 non-null  int64   \n",
            " 2   SEX                         30000 non-null  int64   \n",
            " 3   EDUCATION                   30000 non-null  int64   \n",
            " 4   MARRIAGE                    30000 non-null  int64   \n",
            " 5   Debt                        29999 non-null  float64 \n",
            " 6   BILL_AMT1                   30000 non-null  int64   \n",
            " 7   BILL_AMT2                   30000 non-null  int64   \n",
            " 8   BILL_AMT3                   30000 non-null  int64   \n",
            " 9   BILL_AMT4                   30000 non-null  int64   \n",
            " 10  BILL_AMT5                   30000 non-null  int64   \n",
            " 11  BILL_AMT6                   30000 non-null  int64   \n",
            " 12  PAY_AMT1                    30000 non-null  int64   \n",
            " 13  PAY_AMT2                    30000 non-null  int64   \n",
            " 14  PAY_AMT3                    30000 non-null  int64   \n",
            " 15  PAY_AMT4                    30000 non-null  int64   \n",
            " 16  PAY_AMT5                    30000 non-null  int64   \n",
            " 17  PAY_AMT6                    30000 non-null  int64   \n",
            " 18  default payment next month  30000 non-null  int64   \n",
            " 19  LIMIT_BAL1                  30000 non-null  float64 \n",
            " 20  Payratio                    30000 non-null  float64 \n",
            " 21  Payratio_bins               30000 non-null  category\n",
            " 22  Limit_bins                  30000 non-null  category\n",
            " 23  Debt_bins                   29999 non-null  category\n",
            " 24  Limit_cap                   30000 non-null  float64 \n",
            " 25  Payratio_cap                30000 non-null  float64 \n",
            " 26  Debt_cap                    29999 non-null  float64 \n",
            " 27  Limit_rescaled              30000 non-null  float64 \n",
            " 28  intercept                   30000 non-null  int64   \n",
            "dtypes: category(3), float64(7), int64(19)\n",
            "memory usage: 6.0 MB\n",
            "None\n"
          ]
        }
      ]
    },
    {
      "cell_type": "code",
      "source": [
        "print(np.any(np.isnan(X_train)))\n",
        "print(np.any(np.isinf(X_train)))"
      ],
      "metadata": {
        "colab": {
          "base_uri": "https://localhost:8080/"
        },
        "id": "FNj_gUV3P_iH",
        "outputId": "cb68976d-da72-45ac-a4e5-36e217a501e4"
      },
      "execution_count": 37,
      "outputs": [
        {
          "output_type": "stream",
          "name": "stdout",
          "text": [
            "True\n",
            "False\n"
          ]
        }
      ]
    },
    {
      "cell_type": "code",
      "source": [
        "import statsmodels.api as sm\n",
        "\n",
        "# Check for missing and infinite values in X_train\n",
        "print(np.any(np.isnan(X_train)))\n",
        "print(np.any(np.isinf(X_train)))\n",
        "\n",
        "# Impute missing values\n",
        "X_train = pd.DataFrame(X_train).fillna(X_train.mean()).values\n",
        "\n",
        "# Replace infinite values with a large finite value (e.g. 1e9)\n",
        "X_train[np.isinf(X_train)] = 1e9\n",
        "\n",
        "# Fit logistic model\n",
        "logit_model = sm.Logit(y_train, X_train)\n",
        "result = logit_model.fit()\n",
        "\n",
        "# Print model coefficients\n",
        "print(result.summary())"
      ],
      "metadata": {
        "colab": {
          "base_uri": "https://localhost:8080/"
        },
        "id": "Hb6FiHDVS9wr",
        "outputId": "c6da556b-7c8b-4693-cd39-a4e8e42251d8"
      },
      "execution_count": 38,
      "outputs": [
        {
          "output_type": "stream",
          "name": "stdout",
          "text": [
            "True\n",
            "False\n",
            "Optimization terminated successfully.\n",
            "         Current function value: 0.510306\n",
            "         Iterations 6\n",
            "                               Logit Regression Results                               \n",
            "======================================================================================\n",
            "Dep. Variable:     default payment next month   No. Observations:                24000\n",
            "Model:                                  Logit   Df Residuals:                    23996\n",
            "Method:                                   MLE   Df Model:                            3\n",
            "Date:                        Mon, 13 Mar 2023   Pseudo R-squ.:                 0.03199\n",
            "Time:                                08:19:32   Log-Likelihood:                -12247.\n",
            "converged:                               True   LL-Null:                       -12652.\n",
            "Covariance Type:                    nonrobust   LLR p-value:                3.710e-175\n",
            "==============================================================================\n",
            "                 coef    std err          z      P>|z|      [0.025      0.975]\n",
            "------------------------------------------------------------------------------\n",
            "x1             0.0087      0.002      5.207      0.000       0.005       0.012\n",
            "x2         -3.891e-06   1.51e-07    -25.782      0.000   -4.19e-06    -3.6e-06\n",
            "const         -0.8129      0.069    -11.853      0.000      -0.947      -0.679\n",
            "x3            -0.0008    7.2e-05    -11.748      0.000      -0.001      -0.001\n",
            "==============================================================================\n"
          ]
        }
      ]
    },
    {
      "cell_type": "code",
      "source": [
        "import numpy as np\n",
        "\n",
        "# Check for missing and infinite values\n",
        "print(np.isnan(X_train).sum())\n",
        "print(np.isinf(X_train).sum())\n",
        "\n",
        "# Replace missing values with the median\n",
        "X_train[np.isnan(X_train)] = np.nanmedian(X_train)\n",
        "\n",
        "# Replace infinite values with a large value\n",
        "X_train[np.isinf(X_train)] = 1e8\n",
        "\n",
        "# Fit logistic model\n",
        "logit_model = sm.Logit(y_train, X_train)\n",
        "result = logit_model.fit()\n",
        "\n",
        "# Print model coefficients\n",
        "print(result.summary())\n"
      ],
      "metadata": {
        "colab": {
          "base_uri": "https://localhost:8080/"
        },
        "id": "_My7z__BTy6Y",
        "outputId": "e54a9cf2-c14c-4c85-d95e-0de35ff6c090"
      },
      "execution_count": 39,
      "outputs": [
        {
          "output_type": "stream",
          "name": "stdout",
          "text": [
            "0\n",
            "0\n",
            "Optimization terminated successfully.\n",
            "         Current function value: 0.510306\n",
            "         Iterations 6\n",
            "                               Logit Regression Results                               \n",
            "======================================================================================\n",
            "Dep. Variable:     default payment next month   No. Observations:                24000\n",
            "Model:                                  Logit   Df Residuals:                    23996\n",
            "Method:                                   MLE   Df Model:                            3\n",
            "Date:                        Mon, 13 Mar 2023   Pseudo R-squ.:                 0.03199\n",
            "Time:                                08:19:32   Log-Likelihood:                -12247.\n",
            "converged:                               True   LL-Null:                       -12652.\n",
            "Covariance Type:                    nonrobust   LLR p-value:                3.710e-175\n",
            "==============================================================================\n",
            "                 coef    std err          z      P>|z|      [0.025      0.975]\n",
            "------------------------------------------------------------------------------\n",
            "x1             0.0087      0.002      5.207      0.000       0.005       0.012\n",
            "x2         -3.891e-06   1.51e-07    -25.782      0.000   -4.19e-06    -3.6e-06\n",
            "const         -0.8129      0.069    -11.853      0.000      -0.947      -0.679\n",
            "x3            -0.0008    7.2e-05    -11.748      0.000      -0.001      -0.001\n",
            "==============================================================================\n"
          ]
        }
      ]
    },
    {
      "cell_type": "code",
      "source": [
        "import statsmodels.api as sm\n",
        "\n",
        "# Fit logistic model\n",
        "logit_model = sm.Logit(y_train, X_train)\n",
        "result = logit_model.fit()\n",
        "\n",
        "# Print model coefficients\n",
        "print(result.summary())"
      ],
      "metadata": {
        "colab": {
          "base_uri": "https://localhost:8080/"
        },
        "id": "BxOXQjdIUlbJ",
        "outputId": "6a4cbbb8-6e4d-436a-dac9-8859f8f8d592"
      },
      "execution_count": 40,
      "outputs": [
        {
          "output_type": "stream",
          "name": "stdout",
          "text": [
            "Optimization terminated successfully.\n",
            "         Current function value: 0.510306\n",
            "         Iterations 6\n",
            "                               Logit Regression Results                               \n",
            "======================================================================================\n",
            "Dep. Variable:     default payment next month   No. Observations:                24000\n",
            "Model:                                  Logit   Df Residuals:                    23996\n",
            "Method:                                   MLE   Df Model:                            3\n",
            "Date:                        Mon, 13 Mar 2023   Pseudo R-squ.:                 0.03199\n",
            "Time:                                08:19:33   Log-Likelihood:                -12247.\n",
            "converged:                               True   LL-Null:                       -12652.\n",
            "Covariance Type:                    nonrobust   LLR p-value:                3.710e-175\n",
            "==============================================================================\n",
            "                 coef    std err          z      P>|z|      [0.025      0.975]\n",
            "------------------------------------------------------------------------------\n",
            "x1             0.0087      0.002      5.207      0.000       0.005       0.012\n",
            "x2         -3.891e-06   1.51e-07    -25.782      0.000   -4.19e-06    -3.6e-06\n",
            "const         -0.8129      0.069    -11.853      0.000      -0.947      -0.679\n",
            "x3            -0.0008    7.2e-05    -11.748      0.000      -0.001      -0.001\n",
            "==============================================================================\n"
          ]
        }
      ]
    },
    {
      "cell_type": "code",
      "source": [
        "print(data.info())"
      ],
      "metadata": {
        "colab": {
          "base_uri": "https://localhost:8080/"
        },
        "id": "FoPVyuLxU1Zr",
        "outputId": "0a3c7afa-201c-40d2-e7d7-96479a0e6fd6"
      },
      "execution_count": 41,
      "outputs": [
        {
          "output_type": "stream",
          "name": "stdout",
          "text": [
            "<class 'pandas.core.frame.DataFrame'>\n",
            "RangeIndex: 30000 entries, 0 to 29999\n",
            "Data columns (total 29 columns):\n",
            " #   Column                      Non-Null Count  Dtype   \n",
            "---  ------                      --------------  -----   \n",
            " 0   Acc_ID                      30000 non-null  int64   \n",
            " 1   Limit                       30000 non-null  int64   \n",
            " 2   SEX                         30000 non-null  int64   \n",
            " 3   EDUCATION                   30000 non-null  int64   \n",
            " 4   MARRIAGE                    30000 non-null  int64   \n",
            " 5   Debt                        29999 non-null  float64 \n",
            " 6   BILL_AMT1                   30000 non-null  int64   \n",
            " 7   BILL_AMT2                   30000 non-null  int64   \n",
            " 8   BILL_AMT3                   30000 non-null  int64   \n",
            " 9   BILL_AMT4                   30000 non-null  int64   \n",
            " 10  BILL_AMT5                   30000 non-null  int64   \n",
            " 11  BILL_AMT6                   30000 non-null  int64   \n",
            " 12  PAY_AMT1                    30000 non-null  int64   \n",
            " 13  PAY_AMT2                    30000 non-null  int64   \n",
            " 14  PAY_AMT3                    30000 non-null  int64   \n",
            " 15  PAY_AMT4                    30000 non-null  int64   \n",
            " 16  PAY_AMT5                    30000 non-null  int64   \n",
            " 17  PAY_AMT6                    30000 non-null  int64   \n",
            " 18  default payment next month  30000 non-null  int64   \n",
            " 19  LIMIT_BAL1                  30000 non-null  float64 \n",
            " 20  Payratio                    30000 non-null  float64 \n",
            " 21  Payratio_bins               30000 non-null  category\n",
            " 22  Limit_bins                  30000 non-null  category\n",
            " 23  Debt_bins                   29999 non-null  category\n",
            " 24  Limit_cap                   30000 non-null  float64 \n",
            " 25  Payratio_cap                30000 non-null  float64 \n",
            " 26  Debt_cap                    29999 non-null  float64 \n",
            " 27  Limit_rescaled              30000 non-null  float64 \n",
            " 28  intercept                   30000 non-null  int64   \n",
            "dtypes: category(3), float64(7), int64(19)\n",
            "memory usage: 6.0 MB\n",
            "None\n"
          ]
        }
      ]
    },
    {
      "cell_type": "code",
      "source": [
        "print(np.any(np.isnan(X_train)))\n",
        "print(np.any(np.isinf(X_train)))"
      ],
      "metadata": {
        "colab": {
          "base_uri": "https://localhost:8080/"
        },
        "id": "Z1DKCSFNYgJa",
        "outputId": "a19e54ef-14fa-4eb0-e374-7116247fd4ef"
      },
      "execution_count": 42,
      "outputs": [
        {
          "output_type": "stream",
          "name": "stdout",
          "text": [
            "False\n",
            "False\n"
          ]
        }
      ]
    },
    {
      "cell_type": "code",
      "source": [
        "# Importing necessary libraries\n",
        "import statsmodels.api as sm\n",
        "\n",
        "# Fitting the logistic model using the train data\n",
        "logit_model = sm.Logit(y_train, X_train)\n",
        "result = logit_model.fit()\n",
        "\n",
        "# Printing the model coefficients\n",
        "print(result.params)"
      ],
      "metadata": {
        "colab": {
          "base_uri": "https://localhost:8080/"
        },
        "id": "_ktL1sxtc-0V",
        "outputId": "4469c6b2-a889-421f-ab30-536383a199f3"
      },
      "execution_count": 43,
      "outputs": [
        {
          "output_type": "stream",
          "name": "stdout",
          "text": [
            "Optimization terminated successfully.\n",
            "         Current function value: 0.510306\n",
            "         Iterations 6\n",
            "x1       0.008734\n",
            "x2      -0.000004\n",
            "const   -0.812944\n",
            "x3      -0.000846\n",
            "dtype: float64\n"
          ]
        }
      ]
    },
    {
      "cell_type": "code",
      "source": [
        "# Importing necessary libraries\n",
        "from sklearn.linear_model import LogisticRegression\n",
        "\n",
        "# Fitting the logistic model using the new train data\n",
        "logreg = LogisticRegression()\n",
        "logreg.fit(X_train, y_train)\n",
        "\n",
        "# Printing the model coefficients\n",
        "print(logreg.coef_)"
      ],
      "metadata": {
        "colab": {
          "base_uri": "https://localhost:8080/"
        },
        "id": "XTpC2W32dT4F",
        "outputId": "e536ed22-1251-4adb-9a5a-b1e9c19211f2"
      },
      "execution_count": 44,
      "outputs": [
        {
          "output_type": "stream",
          "name": "stdout",
          "text": [
            "[[-1.08369378e-04 -5.56620467e-06 -3.33316382e-06 -1.58954005e-03]]\n"
          ]
        }
      ]
    },
    {
      "cell_type": "code",
      "source": [
        "from sklearn.linear_model import LogisticRegression\n",
        "from sklearn.metrics import roc_auc_score\n",
        "\n",
        "# Split data into X and y\n",
        "# Fit logistic regression model\n",
        "logreg = LogisticRegression()\n",
        "logreg.fit(X_train, y_train)\n",
        "\n",
        "# Predict probabilities and calculate AUC for train and test data\n",
        "y_train_prob = logreg.predict_proba(X_train)[:, 1]\n",
        "y_test_prob = logreg.predict_proba(X_test)[:, 1]\n",
        "train_auc = roc_auc_score(y_train, y_train_prob)\n",
        "test_auc = roc_auc_score(y_test, y_test_prob)\n",
        "\n",
        "# Print AUC values for train and test data\n",
        "print('Train AUC:', train_auc)\n",
        "print('Test AUC:', test_auc)\n"
      ],
      "metadata": {
        "colab": {
          "base_uri": "https://localhost:8080/"
        },
        "id": "uVhkG7qSd71D",
        "outputId": "28ca42e6-87c4-4e2c-a706-e7fda8a1b392"
      },
      "execution_count": 45,
      "outputs": [
        {
          "output_type": "stream",
          "name": "stdout",
          "text": [
            "Train AUC: 0.6301117469102212\n",
            "Test AUC: 0.6291968585525504\n"
          ]
        },
        {
          "output_type": "stream",
          "name": "stderr",
          "text": [
            "/usr/local/lib/python3.9/dist-packages/sklearn/base.py:413: UserWarning: X has feature names, but LogisticRegression was fitted without feature names\n",
            "  warnings.warn(\n"
          ]
        }
      ]
    },
    {
      "cell_type": "code",
      "source": [
        "from sklearn.linear_model import LogisticRegression\n",
        "from sklearn.metrics import roc_auc_score\n",
        "\n",
        "# Fit logistic regression model\n",
        "logreg_new = LogisticRegression()\n",
        "logreg_new.fit(X_train, y_train)\n",
        "\n",
        "# Predict probabilities and calculate AUC for new train and new test data\n",
        "y_new_train_prob = logreg_new.predict_proba(X_train)[:, 1]\n",
        "y_new_test_prob = logreg_new.predict_proba(X_test)[:, 1]\n",
        "new_train_auc = roc_auc_score(y_train, y_new_train_prob)\n",
        "new_test_auc = roc_auc_score(y_test, y_new_test_prob)\n",
        "\n",
        "# Print AUC values for new train and new test data\n",
        "print('New Train AUC:', new_train_auc)\n",
        "print('New Test AUC:', new_test_auc)\n"
      ],
      "metadata": {
        "colab": {
          "base_uri": "https://localhost:8080/"
        },
        "id": "xubgrXuPevOE",
        "outputId": "e4fc5dc1-6cc2-4a0a-9bc7-06f5a57432ff"
      },
      "execution_count": 46,
      "outputs": [
        {
          "output_type": "stream",
          "name": "stderr",
          "text": [
            "/usr/local/lib/python3.9/dist-packages/sklearn/base.py:413: UserWarning: X has feature names, but LogisticRegression was fitted without feature names\n",
            "  warnings.warn(\n"
          ]
        },
        {
          "output_type": "stream",
          "name": "stdout",
          "text": [
            "New Train AUC: 0.6301117469102212\n",
            "New Test AUC: 0.6291968585525504\n"
          ]
        }
      ]
    },
    {
      "cell_type": "code",
      "source": [
        "print(np.any(np.isnan(y_train)))\n",
        "print(np.any(np.isinf(y_train)))"
      ],
      "metadata": {
        "colab": {
          "base_uri": "https://localhost:8080/"
        },
        "id": "h41xiIb1fGW3",
        "outputId": "95d3343f-930f-4c29-b7a3-7964aa1e22d1"
      },
      "execution_count": 47,
      "outputs": [
        {
          "output_type": "stream",
          "name": "stdout",
          "text": [
            "False\n",
            "False\n"
          ]
        }
      ]
    },
    {
      "cell_type": "code",
      "source": [
        "# importing necessary libraries\n",
        "from sklearn.metrics import accuracy_score, roc_auc_score\n",
        "\n",
        "# predicting probabilities on train data\n",
        "train_prob = logreg .predict_proba(X_train)[:, 1]\n",
        "\n",
        "# calculating the minimum probability\n",
        "min_prob = min(train_prob)\n",
        "print(\"Minimum probability:\", min_prob)\n",
        "\n",
        "# calculating the maximum probability\n",
        "max_prob = max(train_prob)\n",
        "print(\"Maximum probability:\", max_prob)\n",
        "\n",
        "# converting probabilities to binary predictions using 0.5 threshold\n",
        "train_pred = (train_prob >= 0.5).astype(int)\n",
        "\n",
        "# calculating total predicted defaults\n",
        "total_defaults = sum(train_pred)\n",
        "print(\"Total predicted defaults:\", total_defaults)\n",
        "\n"
      ],
      "metadata": {
        "colab": {
          "base_uri": "https://localhost:8080/"
        },
        "id": "jcLa-fBhiKIr",
        "outputId": "2125ecc5-a738-4e2a-ea07-542dd9daf179"
      },
      "execution_count": 49,
      "outputs": [
        {
          "output_type": "stream",
          "name": "stdout",
          "text": [
            "Minimum probability: 0.006520409127041902\n",
            "Maximum probability: 0.48519199960345116\n",
            "Total predicted defaults: 0\n"
          ]
        }
      ]
    },
    {
      "cell_type": "code",
      "source": [
        "# predicting probabilities on new train data\n",
        "new_train_prob = logreg.predict_proba(X_train)[:, 1]\n",
        "\n",
        "# calculating the minimum probability\n",
        "min_prob = min(new_train_prob)\n",
        "print(\"Minimum probability:\", min_prob)\n",
        "\n",
        "# calculating the maximum probability\n",
        "max_prob = max(new_train_prob)\n",
        "print(\"Maximum probability:\", max_prob)\n",
        "\n",
        "# converting probabilities to binary predictions using 0.5 threshold\n",
        "new_train_pred = (new_train_prob >= 0.5).astype(int)\n",
        "\n",
        "# calculating total predicted defaults\n",
        "total_defaults = sum(new_train_pred)\n",
        "print(\"Total predicted defaults:\", total_defaults)\n",
        "\n",
        "# calculating the predicted default rate\n",
        "default_rate = total_defaults / len(new_train_pred)\n",
        "print(\"Predicted default rate:\", default_rate)\n"
      ],
      "metadata": {
        "colab": {
          "base_uri": "https://localhost:8080/"
        },
        "id": "XPFE2BTwihaO",
        "outputId": "99c75139-aad5-4e70-da62-fad945f934c7"
      },
      "execution_count": 50,
      "outputs": [
        {
          "output_type": "stream",
          "name": "stdout",
          "text": [
            "Minimum probability: 0.006520409127041902\n",
            "Maximum probability: 0.48519199960345116\n",
            "Total predicted defaults: 0\n",
            "Predicted default rate: 0.0\n"
          ]
        }
      ]
    }
  ]
}